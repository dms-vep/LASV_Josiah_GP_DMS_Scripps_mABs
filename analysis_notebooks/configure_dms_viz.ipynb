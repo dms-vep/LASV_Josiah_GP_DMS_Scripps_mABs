{
 "cells": [
  {
   "cell_type": "markdown",
   "id": "0",
   "metadata": {},
   "source": [
    "# Configure structure based analysis for `dms-viz`"
   ]
  },
  {
   "cell_type": "code",
   "execution_count": null,
   "id": "1",
   "metadata": {},
   "outputs": [],
   "source": [
    "import os\n",
    "import subprocess\n",
    "import textwrap\n",
    "import pandas as pd"
   ]
  },
  {
   "cell_type": "markdown",
   "id": "2",
   "metadata": {},
   "source": [
    "File paths for data:"
   ]
  },
  {
   "cell_type": "code",
   "execution_count": null,
   "id": "3",
   "metadata": {
    "editable": true,
    "slideshow": {
     "slide_type": ""
    },
    "tags": [
     "parameters"
    ]
   },
   "outputs": [],
   "source": [
    "# this cell is tagged as `parameters` for papermill parameterization\n",
    "site_map = None\n",
    "func_scores = None\n",
    "antibody_escape_dir = None\n",
    "\n",
    "dms_viz_subdir = None\n",
    "dms_viz_phenotypes = None\n",
    "dms_viz_json = None\n",
    "\n",
    "pdb_file = None\n",
    "times_seen = None\n",
    "n_selections = None\n",
    "frac_models = None\n",
    "cell_entry_default = None"
   ]
  },
  {
   "cell_type": "code",
   "execution_count": null,
   "id": "4",
   "metadata": {
    "editable": true,
    "slideshow": {
     "slide_type": ""
    },
    "tags": []
   },
   "outputs": [],
   "source": [
    "# # Uncomment for running interactive\n",
    "# site_map = \"../data/site_numbering_map.csv\"\n",
    "# func_scores = \"../results/func_effects/averages/293T_entry_func_effects.csv\"\n",
    "# antibody_escape_dir = \"../results/antibody_escape/averages/\"\n",
    "\n",
    "# dms_viz_subdir = \"../results/dms_viz/\"\n",
    "# dms_viz_phenotypes = \"../results/dms_viz/phenotypes.csv\" \n",
    "# dms_viz_json = \"../results/dms_viz/dms_viz.json\"\n",
    "\n",
    "# pdb_file = \"7puy\"\n",
    "# times_seen = 2\n",
    "# n_selections = 8\n",
    "# frac_models = 1\n",
    "# cell_entry_default = -3"
   ]
  },
  {
   "cell_type": "markdown",
   "id": "5",
   "metadata": {},
   "source": [
    "Process data by filtering functional scores and antibody escape data"
   ]
  },
  {
   "cell_type": "code",
   "execution_count": null,
   "id": "6",
   "metadata": {},
   "outputs": [],
   "source": [
    "# Process functional scores\n",
    "phenotypes = pd.read_csv(func_scores)\n",
    "phenotypes = (\n",
    "    phenotypes\n",
    "    .rename(columns={\"effect\" : \"cell_entry\"})\n",
    "    .query(\"mutant != '-' & n_selections >=@n_selections & times_seen >= @times_seen\")\n",
    ")\n",
    "phenotypes[\"mutation\"] = (\n",
    "    phenotypes[\"wildtype\"] + phenotypes[\"site\"].astype(str) + phenotypes[\"mutant\"]\n",
    ")\n",
    "\n",
    "# Process antibody escape data\n",
    "antibodies = [\n",
    "    \"S4378\",\n",
    "    \"S43711\",\n",
    "    \"S43720\",\n",
    "    \"S43727\",\n",
    "    \"S43742\",\n",
    "    \"S44428\",\n",
    "    \"S44433\",\n",
    "    \"S44446\",\n",
    "    \"S44478\",\n",
    "    \"S43752\",\n",
    "]\n",
    "\n",
    "for antibody in antibodies:\n",
    "    curr_df = pd.read_csv(antibody_escape_dir+antibody+\"_mut_effect.csv\")\n",
    "    curr_df = (\n",
    "        curr_df\n",
    "        .query(\"times_seen >= @times_seen & frac_models == @frac_models\")\n",
    "        .drop(columns = curr_df.columns.difference([\n",
    "            \"mutation\",\n",
    "            \"escape_median\"\n",
    "        ]))\n",
    "        .rename(columns={\n",
    "            \"escape_median\" : antibody + \"_escape\"\n",
    "        })\n",
    "    )\n",
    "    phenotypes = (\n",
    "        phenotypes.merge(\n",
    "            curr_df,\n",
    "            how=\"left\",\n",
    "            on=\"mutation\",\n",
    "            validate=\"one_to_one\",\n",
    "        )\n",
    "    )\n",
    "\n",
    "# Make output dir if doesn't exist\n",
    "if not os.path.exists(dms_viz_subdir):\n",
    "    os.mkdir(dms_viz_subdir)\n",
    "\n",
    "phenotypes.to_csv(dms_viz_phenotypes, index=False)"
   ]
  },
  {
   "cell_type": "code",
   "execution_count": null,
   "id": "7",
   "metadata": {},
   "outputs": [],
   "source": [
    "phenotype_cols = {\n",
    "    # phenotype columns and additional arguments to `configure-dms-viz`\n",
    "    \"S4378_escape\": [\"--floor\", \"True\", \"--summary-stat\", \"sum\"],\n",
    "    \"S43711_escape\": [\"--floor\", \"True\", \"--summary-stat\", \"sum\"],\n",
    "    \"S43720_escape\": [\"--floor\", \"True\", \"--summary-stat\", \"sum\"],\n",
    "    \"S43727_escape\": [\"--floor\", \"True\", \"--summary-stat\", \"sum\"],\n",
    "    \"S43742_escape\": [\"--floor\", \"True\", \"--summary-stat\", \"sum\"],\n",
    "    \"S43752_escape\": [\"--floor\", \"False\", \"--summary-stat\", \"sum\"],\n",
    "    \"S44428_escape\": [\"--floor\", \"True\", \"--summary-stat\", \"sum\"],\n",
    "    \"S44433_escape\": [\"--floor\", \"True\", \"--summary-stat\", \"sum\"],\n",
    "    \"S44446_escape\": [\"--floor\", \"True\", \"--summary-stat\", \"sum\"],\n",
    "    \"S44478_escape\": [\"--floor\", \"True\", \"--summary-stat\", \"sum\"],\n",
    "    \"cell_entry\": [\"--floor\", \"False\", \"--summary-stat\", \"mean\"],\n",
    "}\n",
    "\n",
    "# additional tooltips to show\n",
    "tooltip_cols = {\n",
    "    c: c.replace(\"_\", \" \")\n",
    "    for c in list(phenotype_cols) + [\"mutation\"]\n",
    "}\n",
    "\n",
    "assert set(tooltip_cols).issubset(phenotypes.columns)\n",
    "\n",
    "filter_cols = [\"cell_entry\"]\n",
    "min_value = phenotypes[\"cell_entry\"].min().tolist() # have to convert to float\n",
    "filter_limits = {\"cell_entry\" : [min_value, cell_entry_default, 0]}\n",
    "\n",
    "print(filter_limits)"
   ]
  },
  {
   "cell_type": "code",
   "execution_count": null,
   "id": "8",
   "metadata": {},
   "outputs": [],
   "source": [
    "pheno_jsons = []\n",
    "for pheno_col, pheno_args in phenotype_cols.items():\n",
    "    pheno_json = os.path.join(dms_viz_subdir, f\"{pheno_col}.json\")\n",
    "    print(f\"Writing phenotype {pheno_col} to {pheno_json}\")\n",
    "    cmds = [\n",
    "        \"configure-dms-viz\", \"format\",\n",
    "        \"--name\", pheno_col.replace(\"_\", \" \"),\n",
    "        \"--input\", dms_viz_phenotypes,\n",
    "        \"--metric\", pheno_col,\n",
    "        \"--structure\", pdb_file,\n",
    "        \"--sitemap\", site_map,\n",
    "        \"--tooltip-cols\", str({k: v for (k, v) in tooltip_cols.items() if k != pheno_col}),\n",
    "        \"--alphabet\", \"RKHDEQNSTYWFAILMVGPC*\",\n",
    "        \"--output\", pheno_json,\n",
    "        \"--title\", f\"Effects of mutations to Lassa virus GPC (Josiah strain) on {pheno_col.replace('_', ' ')}\",\n",
    "        \"--description\", pheno_col,\n",
    "        *pheno_args,\n",
    "    ]\n",
    "    pheno_filter_cols = {c: c for c in filter_cols if c != pheno_col}\n",
    "    if pheno_filter_cols:\n",
    "        cmds += [\"--filter-cols\", str(pheno_filter_cols)]\n",
    "        cmds += [\"--filter-limits\", str({c: filter_limits[c] for c in pheno_filter_cols})]\n",
    "    subprocess.run(cmds, check=True)\n",
    "    pheno_jsons.append(pheno_json)\n",
    "\n",
    "markdown_description = os.path.join(dms_viz_subdir, \"description.md\")\n",
    "with open(markdown_description, \"w\") as f:\n",
    "    f.write(\n",
    "        textwrap.dedent(\n",
    "            \"\"\"\\\n",
    "            # Effects of mutations to Lassa virus GPC as measured by deep mutational scanning\n",
    "            This is an interactive structure-based visualization of the effects of mutations to\n",
    "            a Josiah strain GPC on cell entry and antibody escape.\n",
    "\n",
    "            Use the *Dataset* dropdown in the left toolbar to choose which phenotype to show.\n",
    "            You can click on points on the site lineplot to highlight them on the structure\n",
    "            and show the effects of individual mutations.\n",
    "            \"\"\"\n",
    "        )\n",
    "    )\n",
    "\n",
    "print(f\"Concatenating phenotype JSONs to {dms_viz_json}\")\n",
    "subprocess.run(\n",
    "    [\n",
    "        \"configure-dms-viz\", \"join\",\n",
    "        \"--input\", \", \".join(pheno_jsons),\n",
    "        \"--output\", dms_viz_json,\n",
    "        \"--description\", markdown_description,\n",
    "    ],\n",
    "    check=True,\n",
    ")"
   ]
  }
 ],
 "metadata": {
  "kernelspec": {
   "display_name": "Python 3 (ipykernel)",
   "language": "python",
   "name": "python3"
  },
  "language_info": {
   "codemirror_mode": {
    "name": "ipython",
    "version": 3
   },
   "file_extension": ".py",
   "mimetype": "text/x-python",
   "name": "python",
   "nbconvert_exporter": "python",
   "pygments_lexer": "ipython3",
   "version": "3.11.9"
  }
 },
 "nbformat": 4,
 "nbformat_minor": 5
}
