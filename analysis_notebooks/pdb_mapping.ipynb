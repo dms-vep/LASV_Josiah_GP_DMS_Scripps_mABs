{
 "cells": [
  {
   "cell_type": "markdown",
   "id": "2a0aa4cd-210f-4da1-9e2a-11b4adec50d4",
   "metadata": {},
   "source": [
    "# Map escape scores onto pdb structure"
   ]
  },
  {
   "cell_type": "code",
   "execution_count": 1,
   "id": "088bdb65-042f-4335-a38b-2f0b9c857baf",
   "metadata": {},
   "outputs": [],
   "source": [
    "# Imports\n",
    "import os\n",
    "import pandas as pd\n",
    "import polyclonal"
   ]
  },
  {
   "cell_type": "markdown",
   "id": "b2f3f1aa-5835-433a-9d63-c555ada1c732",
   "metadata": {},
   "source": [
    "File paths for data:"
   ]
  },
  {
   "cell_type": "code",
   "execution_count": 2,
   "id": "93067337-ce3b-4ce5-be67-0a329b650da6",
   "metadata": {
    "editable": true,
    "slideshow": {
     "slide_type": ""
    },
    "tags": [
     "parameters"
    ]
   },
   "outputs": [],
   "source": [
    "# this cell is tagged as `parameters` for papermill parameterization\n",
    "pdb_file = None\n",
    "\n",
    "filtered_csv_dir = None\n",
    "pdb_dir = None"
   ]
  },
  {
   "cell_type": "code",
   "execution_count": 3,
   "id": "277b88a3-6622-4f1b-8454-1a232f22f1fc",
   "metadata": {
    "editable": true,
    "slideshow": {
     "slide_type": ""
    },
    "tags": []
   },
   "outputs": [],
   "source": [
    "# # Uncomment for running interactive\n",
    "# pdb_file = \"../data/7puy.pdb\"\n",
    "\n",
    "# filtered_csv_dir = \"../results/filtered_CSVs/\"\n",
    "# pdb_dir = \"../results/mapped_scores_onto_pdb/\""
   ]
  },
  {
   "cell_type": "code",
   "execution_count": 4,
   "id": "54824b68-38bd-44b2-b53a-fc37bc403bbf",
   "metadata": {
    "editable": true,
    "slideshow": {
     "slide_type": ""
    },
    "tags": []
   },
   "outputs": [],
   "source": [
    "def escape_scores_to_b_factors(input_pdb_file, output_pdb_file_dir, filtered_file_dir, antibody_name):\n",
    "    \"\"\"\n",
    "    Function to map escape scores to a pdb structure\n",
    "    using mut_escape_pdb_b_factor function from polyclonal.\n",
    "    \"\"\"\n",
    "    \n",
    "    escape_scores = pd.read_csv(filtered_file_dir+antibody_name+\"_filtered_mut_effects.csv\")\n",
    "\n",
    "    # Add dummy phenotype column\n",
    "    escape_scores[\"phenotype\"] = \"escape\"\n",
    "\n",
    "    # Calculate site sums\n",
    "    escape_scores = (\n",
    "        escape_scores.groupby([\"site\"])\n",
    "        .aggregate({\n",
    "            \"floored_escape\" : \"sum\"\n",
    "        })\n",
    "        .reset_index()\n",
    "    )\n",
    "\n",
    "    print(antibody_name)\n",
    "    print(f\"Max summed escape: {escape_scores['floored_escape'].max()}\") # Verify max matches altair plots\n",
    "    print(f\"50th percentile of summed escape scores: {escape_scores['floored_escape'].quantile(0.50)}\")\n",
    "    print(f\"75th percentile of summed escape scores: {escape_scores['floored_escape'].quantile(0.75)}\")\n",
    "    print(f\"90th percentile of summed escape scores: {escape_scores['floored_escape'].quantile(0.90)}\")\n",
    "    print(f\"95th percentile of summed escape scores: {escape_scores['floored_escape'].quantile(0.95)}\")\n",
    "    print(f\"99th percentile of summed escape scores: {escape_scores['floored_escape'].quantile(0.99)}\")\n",
    "    print()\n",
    "    \n",
    "    escape_scores_aA = escape_scores.copy()\n",
    "    escape_scores_bB = escape_scores.copy()\n",
    "    escape_scores_cC = escape_scores.copy()\n",
    "    \n",
    "    escape_scores_aA[\"chain\"] = (\n",
    "        escape_scores_aA.apply(lambda x: \"A\" if x[\"site\"] <= 259 else \"a\", axis=1)\n",
    "    )\n",
    "    \n",
    "    escape_scores_bB[\"chain\"] = (\n",
    "        escape_scores_bB.apply(lambda x: \"B\" if x[\"site\"] <= 259 else \"b\", axis=1)\n",
    "    )\n",
    "    \n",
    "    escape_scores_cC[\"chain\"] = (\n",
    "        escape_scores_cC.apply(lambda x: \"C\" if x[\"site\"] <= 259 else \"c\", axis=1)\n",
    "    )\n",
    "    \n",
    "    escape_scores = (\n",
    "        pd.concat([\n",
    "            escape_scores_aA,\n",
    "            escape_scores_bB,\n",
    "            escape_scores_cC,\n",
    "        ], ignore_index=True)\n",
    "    )\n",
    "\n",
    "    escape_scores = escape_scores.astype({\"site\" : \"int\"}) \n",
    "\n",
    "    polyclonal.pdb_utils.reassign_b_factor(\n",
    "        input_pdbfile=input_pdb_file,\n",
    "        output_pdbfile=output_pdb_file_dir+antibody_name+\"_mapped_pdb.pdb\",\n",
    "        df=escape_scores,\n",
    "        metric_col=\"floored_escape\",\n",
    "        site_col=\"site\",\n",
    "        chain_col=\"chain\",\n",
    "    )"
   ]
  },
  {
   "cell_type": "code",
   "execution_count": 5,
   "id": "32e795b7-6909-440e-a443-f10c58536f23",
   "metadata": {
    "editable": true,
    "slideshow": {
     "slide_type": ""
    },
    "tags": []
   },
   "outputs": [
    {
     "name": "stdout",
     "output_type": "stream",
     "text": [
      "S4378\n",
      "Max summed escape: 83.2097\n",
      "50th percentile of summed escape scores: 1.447135\n",
      "75th percentile of summed escape scores: 2.88186\n",
      "90th percentile of summed escape scores: 14.849520000000002\n",
      "95th percentile of summed escape scores: 32.51816949999989\n",
      "99th percentile of summed escape scores: 63.73507200000001\n",
      "\n",
      "S43711\n",
      "Max summed escape: 115.727\n",
      "50th percentile of summed escape scores: 1.1658\n",
      "75th percentile of summed escape scores: 2.0886500000000003\n",
      "90th percentile of summed escape scores: 3.2391039999999998\n",
      "95th percentile of summed escape scores: 3.9858431999999993\n",
      "99th percentile of summed escape scores: 24.311042400000023\n",
      "\n",
      "S43720\n",
      "Max summed escape: 106.922\n",
      "50th percentile of summed escape scores: 1.9300499999999998\n",
      "75th percentile of summed escape scores: 4.287744999999999\n",
      "90th percentile of summed escape scores: 10.912341\n",
      "95th percentile of summed escape scores: 22.876552\n",
      "99th percentile of summed escape scores: 60.82993000000006\n",
      "\n",
      "S43727\n",
      "Max summed escape: 19.19153\n",
      "50th percentile of summed escape scores: 0.9963\n",
      "75th percentile of summed escape scores: 1.9202290000000002\n",
      "90th percentile of summed escape scores: 3.655719000000001\n",
      "95th percentile of summed escape scores: 5.967030499999993\n",
      "99th percentile of summed escape scores: 13.787251000000015\n",
      "\n",
      "S43742\n",
      "Max summed escape: 18.5717\n",
      "50th percentile of summed escape scores: 1.1461815\n",
      "75th percentile of summed escape scores: 1.9051525\n",
      "90th percentile of summed escape scores: 3.272637600000003\n",
      "95th percentile of summed escape scores: 4.551597199999997\n",
      "99th percentile of summed escape scores: 9.194386700000015\n",
      "\n",
      "S44428\n",
      "Max summed escape: 49.4779\n",
      "50th percentile of summed escape scores: 1.5107210000000002\n",
      "75th percentile of summed escape scores: 2.4901225\n",
      "90th percentile of summed escape scores: 3.92831\n",
      "95th percentile of summed escape scores: 5.720303049999998\n",
      "99th percentile of summed escape scores: 18.17307000000013\n",
      "\n",
      "S44433\n",
      "Max summed escape: 71.5934\n",
      "50th percentile of summed escape scores: 1.788\n",
      "75th percentile of summed escape scores: 4.745535\n",
      "90th percentile of summed escape scores: 18.9533\n",
      "95th percentile of summed escape scores: 35.5345\n",
      "99th percentile of summed escape scores: 62.87520000000011\n",
      "\n",
      "S44446\n",
      "Max summed escape: 92.3185\n",
      "50th percentile of summed escape scores: 1.65994\n",
      "75th percentile of summed escape scores: 3.06774\n",
      "90th percentile of summed escape scores: 5.781345999999999\n",
      "95th percentile of summed escape scores: 9.383399199999989\n",
      "99th percentile of summed escape scores: 30.049432000000014\n",
      "\n",
      "S44478\n",
      "Max summed escape: 83.42345\n",
      "50th percentile of summed escape scores: 1.6347429999999998\n",
      "75th percentile of summed escape scores: 2.96950185\n",
      "90th percentile of summed escape scores: 5.213599\n",
      "95th percentile of summed escape scores: 8.500949\n",
      "99th percentile of summed escape scores: 22.569850000000116\n",
      "\n",
      "S43752\n",
      "Max summed escape: 111.271\n",
      "50th percentile of summed escape scores: 4.776\n",
      "75th percentile of summed escape scores: 11.950695\n",
      "90th percentile of summed escape scores: 31.598300000000002\n",
      "95th percentile of summed escape scores: 49.24895\n",
      "99th percentile of summed escape scores: 79.081099\n",
      "\n"
     ]
    }
   ],
   "source": [
    "# Process antibody escape data\n",
    "antibodies = [\n",
    "    \"S4378\",\n",
    "    \"S43711\",\n",
    "    \"S43720\",\n",
    "    \"S43727\",\n",
    "    \"S43742\",\n",
    "    \"S44428\",\n",
    "    \"S44433\",\n",
    "    \"S44446\",\n",
    "    \"S44478\",\n",
    "    \"S43752\",\n",
    "]\n",
    "\n",
    "# Make output dir if doesn't exist\n",
    "if not os.path.exists(pdb_dir):\n",
    "    os.mkdir(pdb_dir)\n",
    "\n",
    "for antibody in antibodies:\n",
    "    escape_scores_to_b_factors(pdb_file, pdb_dir, filtered_csv_dir, antibody)"
   ]
  }
 ],
 "metadata": {
  "kernelspec": {
   "display_name": "Python 3 (ipykernel)",
   "language": "python",
   "name": "python3"
  },
  "language_info": {
   "codemirror_mode": {
    "name": "ipython",
    "version": 3
   },
   "file_extension": ".py",
   "mimetype": "text/x-python",
   "name": "python",
   "nbconvert_exporter": "python",
   "pygments_lexer": "ipython3",
   "version": "3.11.9"
  }
 },
 "nbformat": 4,
 "nbformat_minor": 5
}
