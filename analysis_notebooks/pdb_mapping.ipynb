{
 "cells": [
  {
   "cell_type": "markdown",
   "id": "2a0aa4cd-210f-4da1-9e2a-11b4adec50d4",
   "metadata": {},
   "source": [
    "# Map escape scores onto pdb structure"
   ]
  },
  {
   "cell_type": "code",
   "execution_count": 1,
   "id": "088bdb65-042f-4335-a38b-2f0b9c857baf",
   "metadata": {},
   "outputs": [],
   "source": [
    "# Imports\n",
    "import os\n",
    "import pandas as pd\n",
    "import polyclonal"
   ]
  },
  {
   "cell_type": "markdown",
   "id": "b2f3f1aa-5835-433a-9d63-c555ada1c732",
   "metadata": {},
   "source": [
    "File paths for data:"
   ]
  },
  {
   "cell_type": "code",
   "execution_count": 2,
   "id": "93067337-ce3b-4ce5-be67-0a329b650da6",
   "metadata": {
    "editable": true,
    "slideshow": {
     "slide_type": ""
    },
    "tags": [
     "parameters"
    ]
   },
   "outputs": [],
   "source": [
    "# this cell is tagged as `parameters` for papermill parameterization\n",
    "pdb_file = None\n",
    "\n",
    "filtered_csv_dir = None\n",
    "pdb_dir = None"
   ]
  },
  {
   "cell_type": "code",
   "execution_count": 3,
   "id": "277b88a3-6622-4f1b-8454-1a232f22f1fc",
   "metadata": {
    "editable": true,
    "slideshow": {
     "slide_type": ""
    },
    "tags": []
   },
   "outputs": [],
   "source": [
    "# # Uncomment for running interactive\n",
    "# pdb_file = \"../data/7puy.pdb\"\n",
    "\n",
    "# filtered_csv_dir = \"../results/filtered_CSVs/\"\n",
    "# pdb_dir = \"../results/mapped_scores_onto_pdb/\""
   ]
  },
  {
   "cell_type": "code",
   "execution_count": 4,
   "id": "54824b68-38bd-44b2-b53a-fc37bc403bbf",
   "metadata": {
    "editable": true,
    "slideshow": {
     "slide_type": ""
    },
    "tags": []
   },
   "outputs": [],
   "source": [
    "def escape_scores_to_b_factors(input_pdb_file, output_pdb_file_dir, filtered_file_dir, antibody_name):\n",
    "    \"\"\"\n",
    "    Function to map escape scores to a pdb structure\n",
    "    using mut_escape_pdb_b_factor function from polyclonal.\n",
    "    \"\"\"\n",
    "    \n",
    "    escape_scores = pd.read_csv(filtered_file_dir+antibody_name+\"_filtered_mut_effects.csv\")\n",
    "\n",
    "    # Add dummy phenotype column\n",
    "    escape_scores[\"phenotype\"] = \"escape\"\n",
    "\n",
    "    # Calculate site sums\n",
    "    escape_scores = (\n",
    "        escape_scores.groupby([\"site\"])\n",
    "        .aggregate({\n",
    "            \"floored_escape\" : \"sum\"\n",
    "        })\n",
    "        .reset_index()\n",
    "    )\n",
    "\n",
    "    print(antibody_name)\n",
    "    print(f\"Max summed escape: {escape_scores['floored_escape'].max()}\") # Verify max matches altair plots\n",
    "    print(f\"50th percentile of summed escape scores: {escape_scores['floored_escape'].quantile(0.50)}\")\n",
    "    print(f\"75th percentile of summed escape scores: {escape_scores['floored_escape'].quantile(0.75)}\")\n",
    "    print(f\"90th percentile of summed escape scores: {escape_scores['floored_escape'].quantile(0.90)}\")\n",
    "    print(f\"95th percentile of summed escape scores: {escape_scores['floored_escape'].quantile(0.95)}\")\n",
    "    print(f\"99th percentile of summed escape scores: {escape_scores['floored_escape'].quantile(0.99)}\")\n",
    "    print()\n",
    "    \n",
    "    escape_scores_aA = escape_scores.copy()\n",
    "    escape_scores_bB = escape_scores.copy()\n",
    "    escape_scores_cC = escape_scores.copy()\n",
    "    \n",
    "    escape_scores_aA[\"chain\"] = (\n",
    "        escape_scores_aA.apply(lambda x: \"A\" if x[\"site\"] <= 259 else \"a\", axis=1)\n",
    "    )\n",
    "    \n",
    "    escape_scores_bB[\"chain\"] = (\n",
    "        escape_scores_bB.apply(lambda x: \"B\" if x[\"site\"] <= 259 else \"b\", axis=1)\n",
    "    )\n",
    "    \n",
    "    escape_scores_cC[\"chain\"] = (\n",
    "        escape_scores_cC.apply(lambda x: \"C\" if x[\"site\"] <= 259 else \"c\", axis=1)\n",
    "    )\n",
    "    \n",
    "    escape_scores = (\n",
    "        pd.concat([\n",
    "            escape_scores_aA,\n",
    "            escape_scores_bB,\n",
    "            escape_scores_cC,\n",
    "        ], ignore_index=True)\n",
    "    )\n",
    "\n",
    "    escape_scores = escape_scores.astype({\"site\" : \"int\"}) \n",
    "\n",
    "    polyclonal.pdb_utils.reassign_b_factor(\n",
    "        input_pdbfile=input_pdb_file,\n",
    "        output_pdbfile=output_pdb_file_dir+antibody_name+\"_mapped_pdb.pdb\",\n",
    "        df=escape_scores,\n",
    "        metric_col=\"floored_escape\",\n",
    "        site_col=\"site\",\n",
    "        chain_col=\"chain\",\n",
    "    )"
   ]
  },
  {
   "cell_type": "code",
   "execution_count": 5,
   "id": "32e795b7-6909-440e-a443-f10c58536f23",
   "metadata": {
    "editable": true,
    "slideshow": {
     "slide_type": ""
    },
    "tags": []
   },
   "outputs": [
    {
     "name": "stdout",
     "output_type": "stream",
     "text": [
      "S4378\n",
      "Max summed escape: 85.2457\n",
      "50th percentile of summed escape scores: 1.3875495\n",
      "75th percentile of summed escape scores: 2.8767775\n",
      "90th percentile of summed escape scores: 14.849520000000002\n",
      "95th percentile of summed escape scores: 32.51816949999989\n",
      "99th percentile of summed escape scores: 63.73507200000001\n",
      "\n",
      "S43711\n",
      "Max summed escape: 115.727\n",
      "50th percentile of summed escape scores: 1.1347\n",
      "75th percentile of summed escape scores: 2.0701300000000002\n",
      "90th percentile of summed escape scores: 3.2325399999999997\n",
      "95th percentile of summed escape scores: 3.9102449999999997\n",
      "99th percentile of summed escape scores: 24.311042400000023\n",
      "\n",
      "S43720\n",
      "Max summed escape: 100.568\n",
      "50th percentile of summed escape scores: 1.8949\n",
      "75th percentile of summed escape scores: 4.0823215\n",
      "90th percentile of summed escape scores: 11.1074\n",
      "95th percentile of summed escape scores: 24.115692\n",
      "99th percentile of summed escape scores: 55.6717700000001\n",
      "\n",
      "S43727\n",
      "Max summed escape: 19.19153\n",
      "50th percentile of summed escape scores: 0.99756\n",
      "75th percentile of summed escape scores: 1.89189575\n",
      "90th percentile of summed escape scores: 3.655719000000001\n",
      "95th percentile of summed escape scores: 5.916720499999988\n",
      "99th percentile of summed escape scores: 14.840359000000005\n",
      "\n",
      "S43742\n",
      "Max summed escape: 18.5717\n",
      "50th percentile of summed escape scores: 1.1278175\n",
      "75th percentile of summed escape scores: 1.8358175\n",
      "90th percentile of summed escape scores: 3.210543000000001\n",
      "95th percentile of summed escape scores: 4.551597199999997\n",
      "99th percentile of summed escape scores: 9.194386700000015\n",
      "\n",
      "S44428\n",
      "Max summed escape: 49.4779\n",
      "50th percentile of summed escape scores: 1.45353\n",
      "75th percentile of summed escape scores: 2.4796275\n",
      "90th percentile of summed escape scores: 3.911486\n",
      "95th percentile of summed escape scores: 5.729684949999998\n",
      "99th percentile of summed escape scores: 18.17307000000013\n",
      "\n",
      "S44433\n",
      "Max summed escape: 71.2099\n",
      "50th percentile of summed escape scores: 1.74821\n",
      "75th percentile of summed escape scores: 4.5314499999999995\n",
      "90th percentile of summed escape scores: 18.9533\n",
      "95th percentile of summed escape scores: 34.5509\n",
      "99th percentile of summed escape scores: 63.3848400000001\n",
      "\n",
      "S44446\n",
      "Max summed escape: 92.3185\n",
      "50th percentile of summed escape scores: 1.6147\n",
      "75th percentile of summed escape scores: 3.093829\n",
      "90th percentile of summed escape scores: 5.763704699999999\n",
      "95th percentile of summed escape scores: 9.383399199999989\n",
      "99th percentile of summed escape scores: 29.348592000000004\n",
      "\n",
      "S44478\n",
      "Max summed escape: 78.04845\n",
      "50th percentile of summed escape scores: 1.617\n",
      "75th percentile of summed escape scores: 2.9392265\n",
      "90th percentile of summed escape scores: 5.020069\n",
      "95th percentile of summed escape scores: 8.419426000000001\n",
      "99th percentile of summed escape scores: 22.603263000000123\n",
      "\n"
     ]
    }
   ],
   "source": [
    "# Process antibody escape data\n",
    "antibodies = [\n",
    "    \"S4378\",\n",
    "    \"S43711\",\n",
    "    \"S43720\",\n",
    "    \"S43727\",\n",
    "    \"S43742\",\n",
    "    \"S44428\",\n",
    "    \"S44433\",\n",
    "    \"S44446\",\n",
    "    \"S44478\",\n",
    "]\n",
    "\n",
    "# Make output dir if doesn't exist\n",
    "if not os.path.exists(pdb_dir):\n",
    "    os.mkdir(pdb_dir)\n",
    "\n",
    "for antibody in antibodies:\n",
    "    escape_scores_to_b_factors(pdb_file, pdb_dir, filtered_csv_dir, antibody)"
   ]
  }
 ],
 "metadata": {
  "kernelspec": {
   "display_name": "Python 3 (ipykernel)",
   "language": "python",
   "name": "python3"
  },
  "language_info": {
   "codemirror_mode": {
    "name": "ipython",
    "version": 3
   },
   "file_extension": ".py",
   "mimetype": "text/x-python",
   "name": "python",
   "nbconvert_exporter": "python",
   "pygments_lexer": "ipython3",
   "version": "3.12.8"
  }
 },
 "nbformat": 4,
 "nbformat_minor": 5
}
